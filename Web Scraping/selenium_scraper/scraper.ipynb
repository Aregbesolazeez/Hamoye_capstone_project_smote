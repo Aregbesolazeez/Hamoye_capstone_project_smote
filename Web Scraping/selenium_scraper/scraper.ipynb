{
 "cells": [
  {
   "cell_type": "code",
   "execution_count": null,
   "id": "2c9ada89",
   "metadata": {},
   "outputs": [],
   "source": [
    "# necessary imports\n",
    "from selenium import webdriver\n",
    "from selenium.webdriver.common.by import By\n",
    "import time\n",
    "import requests\n",
    "import os"
   ]
  },
  {
   "cell_type": "code",
   "execution_count": null,
   "id": "2ddfda6c",
   "metadata": {},
   "outputs": [],
   "source": [
    "# create driver instance\n",
    "driver = webdriver.Firefox()"
   ]
  },
  {
   "cell_type": "code",
   "execution_count": null,
   "id": "c4ea6283",
   "metadata": {},
   "outputs": [],
   "source": [
    "def save_image(url,filename):\n",
    "    r = requests.get(url)\n",
    "    with open(filename, 'wb') as f:\n",
    "        f.write(r.content)"
   ]
  },
  {
   "cell_type": "code",
   "execution_count": null,
   "id": "e81a05f4",
   "metadata": {},
   "outputs": [],
   "source": [
    "def scrape_images(term):\n",
    "    \n",
    "    # create a folder for the image in the current working directory\n",
    "    try:\n",
    "        path = os.mkdir(f'./{term}')\n",
    "    except:\n",
    "        pass\n",
    "    \n",
    "    # search for term and get the number of result pages\n",
    "    driver.get(f'https://pixabay.com/photos/search/{term} animal/')\n",
    "    pages = int(driver.find_element(By.CSS_SELECTOR,'div.hideSm--2N9ks:nth-child(3) > div:nth-child(1) > span:nth-child(2)').text.split()[-1])\n",
    "\n",
    "    # initialize a variabe to keep track of total scraped images\n",
    "    scraped = 0\n",
    "    \n",
    "    # save links of scraped images\n",
    "    scraped_links = []\n",
    "    \n",
    "    for page in range(1,pages+1):\n",
    "        \n",
    "        # access results page and scroll to bottom to load all images on current page\n",
    "        driver.get(f'https://pixabay.com/photos/search/{term} animal/?pagi={page}')\n",
    "        time.sleep(5)\n",
    "        driver.execute_script(\"window.scrollTo(0,document.body.scrollHeight)\")\n",
    "        time.sleep(5)\n",
    "        \n",
    "        # access the results cntainer and get the link for all thumbnails\n",
    "        results = driver.find_element(By.CSS_SELECTOR,'.container--HcTw2')\n",
    "        image_links = [image.get_attribute('src') for image in results.find_elements(By.TAG_NAME,'img')]\n",
    "        \n",
    "        # navigate through the thumbnail links and save images into the desired folder\n",
    "        for i in range(len(image_links)):\n",
    "            url = image_links[i]\n",
    "            save_image(url,f'{term}/{term}_{scraped}.jpg')\n",
    "            scraped_links.append(url)\n",
    "            scraped+=1\n",
    "            \n",
    "            # limit scraped images to 1200\n",
    "            if scraped == 1200:\n",
    "                break\n",
    "        else:\n",
    "            continue\n",
    "\n",
    "        break\n",
    "    print(f'scraped {scraped} {term} images from {page} page(s)')\n",
    "    \n",
    "    # create a .txt file to save thumbnail links of scraped images\n",
    "    with open(f'{term}/{term} links.txt', 'a') as f:\n",
    "        f.write('\\n'.join(scraped_links))"
   ]
  },
  {
   "cell_type": "code",
   "execution_count": null,
   "id": "64fff1ad",
   "metadata": {},
   "outputs": [],
   "source": [
    "# scrape images for required animals\n",
    "for term in ['buffalo','elephant','rhino','zebra']:\n",
    "    scrape_images(term)"
   ]
  }
 ],
 "metadata": {
  "kernelspec": {
   "display_name": "Python 3 (ipykernel)",
   "language": "python",
   "name": "python3"
  },
  "language_info": {
   "codemirror_mode": {
    "name": "ipython",
    "version": 3
   },
   "file_extension": ".py",
   "mimetype": "text/x-python",
   "name": "python",
   "nbconvert_exporter": "python",
   "pygments_lexer": "ipython3",
   "version": "3.10.2"
  }
 },
 "nbformat": 4,
 "nbformat_minor": 5
}
